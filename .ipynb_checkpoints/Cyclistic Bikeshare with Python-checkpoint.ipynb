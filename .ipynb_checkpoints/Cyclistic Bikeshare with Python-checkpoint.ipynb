{
 "cells": [
  {
   "cell_type": "markdown",
   "id": "e617a371",
   "metadata": {},
   "source": [
    "# Cyclistic Bikeshare Case Study"
   ]
  },
  {
   "cell_type": "markdown",
   "id": "3ddddcd1",
   "metadata": {},
   "source": [
    "## #Import the necessary libraries"
   ]
  },
  {
   "cell_type": "code",
   "execution_count": 1,
   "id": "e5771a98",
   "metadata": {},
   "outputs": [],
   "source": [
    "import pandas as pd               # data manipulation and analysis\n",
    "import numpy as np                # efficient data types\n",
    "import matplotlib.pyplot as plt   # plotting visuals\n",
    "import seaborn as sns             # visualization module\n",
    "import glob                       # pathnames matching\n",
    "import os                         # data file path handling\n",
    "import datetime                   # For date manipulation\n",
    "import math                       # For math functions\n",
    "import h3                         # To calculate distance"
   ]
  },
  {
   "cell_type": "code",
   "execution_count": null,
   "id": "8d1c8adc",
   "metadata": {},
   "outputs": [],
   "source": [
    "# Import all csv files and concatenate them into one dataframe.\n",
    "\n",
    "path = r'C:\\Users\\Victor Muange\\Desktop\\Cyclistic Case Study\\Bikeshare dataset Apr-2020 to Mar-2021'\n",
    "all_files = glob.glob(os.path.join(path, \"*.csv\"))\n",
    "df_from_each_file = (pd.read_csv(f) for f in all_files)\n",
    "Main_df = pd.concat(df_from_each_file, ignore_index = True)"
   ]
  },
  {
   "cell_type": "markdown",
   "id": "bf6f5dda",
   "metadata": {},
   "source": [
    "## Exploring the data for cleaning."
   ]
  },
  {
   "cell_type": "code",
   "execution_count": null,
   "id": "d144d4f6",
   "metadata": {
    "scrolled": true
   },
   "outputs": [],
   "source": [
    "# Prints the top five rows of the data\n",
    "Main_df.head()"
   ]
  },
  {
   "cell_type": "code",
   "execution_count": null,
   "id": "32dcf322",
   "metadata": {},
   "outputs": [],
   "source": [
    "# Check the number of raws in the dataframe.\n",
    "len(Main_df.index)"
   ]
  },
  {
   "cell_type": "code",
   "execution_count": null,
   "id": "493619ad",
   "metadata": {
    "scrolled": true
   },
   "outputs": [],
   "source": [
    "# Get information from our dataframe (number of records, memory use and data types)\n",
    "Main_df.info(memory_usage = 'deep')"
   ]
  },
  {
   "cell_type": "code",
   "execution_count": null,
   "id": "c9ac5a2e",
   "metadata": {
    "scrolled": true
   },
   "outputs": [],
   "source": [
    "# Get descriptive statistics under each numeric column\n",
    "Main_df.describe().apply(lambda s: s.apply('{0:.3f}'.format))"
   ]
  },
  {
   "cell_type": "markdown",
   "id": "efa2141c",
   "metadata": {},
   "source": [
    "# A. Data cleaning"
   ]
  },
  {
   "cell_type": "markdown",
   "id": "f8f33f2d",
   "metadata": {},
   "source": [
    "## Checking for duplicate values"
   ]
  },
  {
   "cell_type": "code",
   "execution_count": null,
   "id": "548b07de",
   "metadata": {},
   "outputs": [],
   "source": [
    "# checking the number of unique values per column\n",
    "print(\"Unique values per column\")\n",
    "for col in Main_df.columns:\n",
    "    print(f\"{col}: {Main_df[col].nunique()}\")"
   ]
  },
  {
   "cell_type": "markdown",
   "id": "58c1419b",
   "metadata": {},
   "source": [
    "### Findig the duplicates for ride_id"
   ]
  },
  {
   "cell_type": "code",
   "execution_count": null,
   "id": "abb354c2",
   "metadata": {},
   "outputs": [],
   "source": [
    "def get_duplicates(field: str) -> pd.DataFrame:\n",
    "    \"\"\"Display rows with duplicate ride_ids\"\"\"\n",
    "    vc = Main_df[field].value_counts()\n",
    "    duplicate_index = vc[vc > 1].index.to_list()\n",
    "    n_duplicates = len(duplicate_index)\n",
    "    print(f\"Number of duplicates for {field}: {n_duplicates}\")\n",
    "    if n_duplicates > 0:\n",
    "        print(\"Sample rows:\")\n",
    "        mask = Main_df[field].isin(duplicate_index)\n",
    "        return Main_df[mask].sort_values(by = field).head()\n",
    "    return\n",
    "\n",
    "get_duplicates('ride_id')"
   ]
  },
  {
   "cell_type": "markdown",
   "id": "9b6cc99e",
   "metadata": {},
   "source": [
    "## Drop duplicate ride_id"
   ]
  },
  {
   "cell_type": "code",
   "execution_count": null,
   "id": "1b114ba0",
   "metadata": {},
   "outputs": [],
   "source": [
    "Main_df = Main_df.drop_duplicates(subset=['ride_id'])"
   ]
  },
  {
   "cell_type": "code",
   "execution_count": null,
   "id": "296d5e8a",
   "metadata": {},
   "outputs": [],
   "source": [
    "# Confirm that duplicate ride_ids were dropped\n",
    "get_duplicates('ride_id')"
   ]
  },
  {
   "cell_type": "markdown",
   "id": "d90a4b93",
   "metadata": {},
   "source": [
    "# Check for NaN values"
   ]
  },
  {
   "cell_type": "code",
   "execution_count": null,
   "id": "eb183b38",
   "metadata": {},
   "outputs": [],
   "source": [
    "# Check for NaN values in start_station_id\n",
    "Main_df['start_station_id'].isna().sum()"
   ]
  },
  {
   "cell_type": "markdown",
   "id": "4ada53c3",
   "metadata": {},
   "source": [
    "## Drop NaN values in start_station_id"
   ]
  },
  {
   "cell_type": "code",
   "execution_count": null,
   "id": "ea91fa9e",
   "metadata": {},
   "outputs": [],
   "source": [
    "Main_df = Main_df.dropna(subset=['start_station_id']) "
   ]
  },
  {
   "cell_type": "code",
   "execution_count": null,
   "id": "01787530",
   "metadata": {},
   "outputs": [],
   "source": [
    "#Confirm that NaN values were dropped.\n",
    "Main_df['start_station_id'].isna().sum()"
   ]
  },
  {
   "cell_type": "code",
   "execution_count": null,
   "id": "35cfce76",
   "metadata": {},
   "outputs": [],
   "source": [
    "# Check for NaN values in end_station_id\n",
    "Main_df['end_station_id'].isna().sum()"
   ]
  },
  {
   "cell_type": "markdown",
   "id": "b6b37bff",
   "metadata": {},
   "source": [
    "## Drop NaN values in end_station_id"
   ]
  },
  {
   "cell_type": "code",
   "execution_count": null,
   "id": "70d161d3",
   "metadata": {},
   "outputs": [],
   "source": [
    "Main_df = Main_df.dropna(subset=['end_station_id'])"
   ]
  },
  {
   "cell_type": "code",
   "execution_count": null,
   "id": "012879a2",
   "metadata": {},
   "outputs": [],
   "source": [
    "#Confirm that NaN values were dropped.\n",
    "Main_df['end_station_id'].isna().sum()"
   ]
  },
  {
   "cell_type": "markdown",
   "id": "e253d3dc",
   "metadata": {},
   "source": [
    "# B. Data Manipulation.\n",
    "### Adding the necessary columns"
   ]
  },
  {
   "cell_type": "markdown",
   "id": "4ef0c5d0",
   "metadata": {},
   "source": [
    "## 1. Add a ride_duration column "
   ]
  },
  {
   "cell_type": "code",
   "execution_count": null,
   "id": "6f148fa5",
   "metadata": {},
   "outputs": [],
   "source": [
    "# convert time object to datetime\n",
    "\n",
    "Main_df['started_at'] = Main_df['started_at'].astype('datetime64[ns]')\n",
    "Main_df['ended_at'] = Main_df['ended_at'].astype('datetime64[ns]')"
   ]
  },
  {
   "cell_type": "code",
   "execution_count": null,
   "id": "8ed1b221",
   "metadata": {},
   "outputs": [],
   "source": [
    "# Adds ride_duration column\n",
    "Main_df['ride_duration_mins'] = (((Main_df['ended_at'] - Main_df['started_at']))/pd.Timedelta(minutes=1))"
   ]
  },
  {
   "cell_type": "markdown",
   "id": "8e9c5de4",
   "metadata": {},
   "source": [
    "### 2. Add a day column to show which day the ride starts"
   ]
  },
  {
   "cell_type": "code",
   "execution_count": null,
   "id": "aa8037ee",
   "metadata": {},
   "outputs": [],
   "source": [
    "Main_df['day'] = pd.to_datetime(Main_df['started_at']).dt.day_name()"
   ]
  },
  {
   "cell_type": "markdown",
   "id": "148b03dc",
   "metadata": {},
   "source": [
    "### 3. Add a month_year column"
   ]
  },
  {
   "cell_type": "code",
   "execution_count": null,
   "id": "a513b1c9",
   "metadata": {},
   "outputs": [],
   "source": [
    "Main_df['month'] = pd.to_datetime(Main_df['started_at']).dt.strftime('%B-%Y')"
   ]
  },
  {
   "cell_type": "markdown",
   "id": "b5b111b8",
   "metadata": {},
   "source": [
    "### 4. Add a ride_distance column\n",
    "#### Subtract start and end coordinates"
   ]
  },
  {
   "cell_type": "code",
   "execution_count": null,
   "id": "3277065a",
   "metadata": {},
   "outputs": [],
   "source": [
    "Main_df['ride_distance'] = Main_df.apply(lambda row: h3.point_dist((row['start_lat'], row['start_lng']), (row['end_lat'], row['end_lng']), unit='km'), axis=1)"
   ]
  },
  {
   "cell_type": "code",
   "execution_count": null,
   "id": "9ee5542a",
   "metadata": {},
   "outputs": [],
   "source": [
    "# Count number of rows where ride_distance is equal to or less than zero\n",
    "\n",
    "(Main_df['ride_distance'] <=0).sum()  .sum()"
   ]
  },
  {
   "cell_type": "code",
   "execution_count": null,
   "id": "d06caff7",
   "metadata": {},
   "outputs": [],
   "source": [
    "# Count total rows in Main_df\n",
    "len(Main_df.index)"
   ]
  },
  {
   "cell_type": "code",
   "execution_count": null,
   "id": "37033c28",
   "metadata": {},
   "outputs": [],
   "source": [
    "# Drop the zero and negative vales in ride_distance\n",
    "Main_df = Main_df.drop(Main_df[(Main_df['ride_distance'] <=0)].index)"
   ]
  },
  {
   "cell_type": "code",
   "execution_count": null,
   "id": "4f73969a",
   "metadata": {},
   "outputs": [],
   "source": [
    "#Check that there are no more zero and negative values in ride_distance\n",
    "(Main_df['ride_distance'] <=0).sum()  .sum()"
   ]
  },
  {
   "cell_type": "code",
   "execution_count": null,
   "id": "f3693d79",
   "metadata": {},
   "outputs": [],
   "source": [
    "# Count total rows in Main_df\n",
    "len(Main_df.index)"
   ]
  },
  {
   "cell_type": "markdown",
   "id": "f0f177b1",
   "metadata": {},
   "source": [
    "### 5. Add a start_hour column\n",
    "It helps determine what time of day most riders get the bikes"
   ]
  },
  {
   "cell_type": "code",
   "execution_count": null,
   "id": "c554b5bc",
   "metadata": {},
   "outputs": [],
   "source": [
    "Main_df['start_hour'] = Main_df['started_at'].dt.hour"
   ]
  },
  {
   "cell_type": "code",
   "execution_count": null,
   "id": "93069ee1",
   "metadata": {
    "scrolled": true
   },
   "outputs": [],
   "source": [
    "Main_df.head()"
   ]
  },
  {
   "cell_type": "markdown",
   "id": "70de067e",
   "metadata": {},
   "source": [
    "### Extract the seasons from started_at"
   ]
  },
  {
   "cell_type": "code",
   "execution_count": null,
   "id": "7d8b965f",
   "metadata": {},
   "outputs": [],
   "source": [
    "Main_df['season'] = (Main_df['started_at'].dt.month%12 + 3)//3\n",
    "\n",
    "seasons = {\n",
    "             1: 'Winter',\n",
    "             2: 'Spring',\n",
    "             3: 'Summer',\n",
    "             4: 'Autumn'\n",
    "}\n",
    "\n",
    "Main_df['season'] = Main_df['season'].map(seasons)"
   ]
  },
  {
   "cell_type": "code",
   "execution_count": null,
   "id": "e4f20853",
   "metadata": {},
   "outputs": [],
   "source": [
    "Main_df.head()"
   ]
  },
  {
   "cell_type": "markdown",
   "id": "5bef7bf3",
   "metadata": {},
   "source": [
    "## #Now the data is clean, we have all the columns we need, and it is ready for analysis.\n",
    "\n",
    "### Note: At this stage, you can visualize the data using Python, or you can export your data as csv and visualize using Tableau."
   ]
  },
  {
   "cell_type": "code",
   "execution_count": null,
   "id": "05ee5b22",
   "metadata": {},
   "outputs": [],
   "source": [
    "Viz_1 = Main_df.groupby(['member_casual']).count()['ride_id']"
   ]
  },
  {
   "cell_type": "code",
   "execution_count": null,
   "id": "00aa86c5",
   "metadata": {
    "scrolled": false
   },
   "outputs": [],
   "source": [
    "# Plot a pie chart that shows the percentage of total rides between casual riders and members.\n",
    "print(\"Members: 1,857,313\",\n",
    "     \"\\nCasuals: 1,150,000\")\n",
    "plot = Viz_1.plot.pie(autopct='%1.0f%%', figsize=(5, 5))"
   ]
  },
  {
   "cell_type": "code",
   "execution_count": null,
   "id": "e780ed87",
   "metadata": {},
   "outputs": [],
   "source": [
    "Viz_2 = Main_df.groupby(['day', 'member_casual']).count()['ride_id']"
   ]
  },
  {
   "cell_type": "code",
   "execution_count": null,
   "id": "2e4f4e97",
   "metadata": {},
   "outputs": [],
   "source": []
  },
  {
   "cell_type": "code",
   "execution_count": null,
   "id": "22b5aebc",
   "metadata": {},
   "outputs": [],
   "source": []
  },
  {
   "cell_type": "code",
   "execution_count": null,
   "id": "34267889",
   "metadata": {},
   "outputs": [],
   "source": []
  },
  {
   "cell_type": "code",
   "execution_count": null,
   "id": "3dc331bd",
   "metadata": {},
   "outputs": [],
   "source": []
  },
  {
   "cell_type": "code",
   "execution_count": null,
   "id": "b86c8d3e",
   "metadata": {},
   "outputs": [],
   "source": [
    "#Viz_3 = Main_df.groupby(['start_hour']).count()['ride_id']\n",
    "#Viz_3"
   ]
  },
  {
   "cell_type": "code",
   "execution_count": null,
   "id": "a24b7d3a",
   "metadata": {},
   "outputs": [],
   "source": [
    "#plt.plot(Viz_3['ride_id'].count(), Viz_3['start_hour'])"
   ]
  },
  {
   "cell_type": "code",
   "execution_count": null,
   "id": "cdae04f4",
   "metadata": {},
   "outputs": [],
   "source": []
  },
  {
   "cell_type": "code",
   "execution_count": null,
   "id": "a268a8fd",
   "metadata": {},
   "outputs": [],
   "source": [
    "#Viz_4 = Main_df.groupby(['day']).count()['ride_id']"
   ]
  },
  {
   "cell_type": "code",
   "execution_count": null,
   "id": "5eec97b1",
   "metadata": {},
   "outputs": [],
   "source": [
    "#x = Viz_4['day']\n",
    "#y = Viz_4['day'])\n",
    "#plt.bar(Viz_4['day']), )\n",
    "#plt.show()"
   ]
  },
  {
   "cell_type": "code",
   "execution_count": null,
   "id": "9f822f25",
   "metadata": {},
   "outputs": [],
   "source": [
    "#Main_df.head()"
   ]
  },
  {
   "cell_type": "markdown",
   "id": "4ac1a88b",
   "metadata": {},
   "source": []
  }
 ],
 "metadata": {
  "kernelspec": {
   "display_name": "Python 3 (ipykernel)",
   "language": "python",
   "name": "python3"
  },
  "language_info": {
   "codemirror_mode": {
    "name": "ipython",
    "version": 3
   },
   "file_extension": ".py",
   "mimetype": "text/x-python",
   "name": "python",
   "nbconvert_exporter": "python",
   "pygments_lexer": "ipython3",
   "version": "3.9.13"
  }
 },
 "nbformat": 4,
 "nbformat_minor": 5
}
