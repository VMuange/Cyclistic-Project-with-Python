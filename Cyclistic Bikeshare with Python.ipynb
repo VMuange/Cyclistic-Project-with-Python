{
 "cells": [
  {
   "cell_type": "markdown",
   "id": "e617a371",
   "metadata": {},
   "source": [
    "# Cyclistic Bikeshare Case Study"
   ]
  },
  {
   "cell_type": "markdown",
   "id": "3ddddcd1",
   "metadata": {},
   "source": [
    "## #Import the necessary libraries"
   ]
  },
  {
   "cell_type": "code",
   "execution_count": 1,
   "id": "e5771a98",
   "metadata": {},
   "outputs": [],
   "source": [
    "import pandas as pd               # data manipulation and analysis\n",
    "import numpy as np                # efficient data types\n",
    "import matplotlib.pyplot as plt   # plotting visuals\n",
    "import seaborn as sns             # visualization module\n",
    "import glob                       # pathnames matching\n",
    "import os                         # data file path handling\n",
    "import datetime                   # For date manipulation\n",
    "import math                       # For math functions\n",
    "import h3                         # To calculate distance"
   ]
  },
  {
   "cell_type": "code",
   "execution_count": 2,
   "id": "8d1c8adc",
   "metadata": {},
   "outputs": [],
   "source": [
    "# Import all csv files and concatenate them into one dataframe.\n",
    "\n",
    "path = r'C:\\Users\\Victor Muange\\Desktop\\Cyclistic Case Study\\Bikeshare dataset Apr-2020 to Mar-2021'\n",
    "all_files = glob.glob(os.path.join(path, \"*.csv\"))\n",
    "df_from_each_file = (pd.read_csv(f) for f in all_files)\n",
    "Main_df = pd.concat(df_from_each_file, ignore_index = True)"
   ]
  },
  {
   "cell_type": "markdown",
   "id": "bf6f5dda",
   "metadata": {},
   "source": [
    "## Exploring the data for cleaning."
   ]
  },
  {
   "cell_type": "code",
   "execution_count": 3,
   "id": "d144d4f6",
   "metadata": {
    "scrolled": true
   },
   "outputs": [
    {
     "data": {
      "text/html": [
       "<div>\n",
       "<style scoped>\n",
       "    .dataframe tbody tr th:only-of-type {\n",
       "        vertical-align: middle;\n",
       "    }\n",
       "\n",
       "    .dataframe tbody tr th {\n",
       "        vertical-align: top;\n",
       "    }\n",
       "\n",
       "    .dataframe thead th {\n",
       "        text-align: right;\n",
       "    }\n",
       "</style>\n",
       "<table border=\"1\" class=\"dataframe\">\n",
       "  <thead>\n",
       "    <tr style=\"text-align: right;\">\n",
       "      <th></th>\n",
       "      <th>ride_id</th>\n",
       "      <th>rideable_type</th>\n",
       "      <th>started_at</th>\n",
       "      <th>ended_at</th>\n",
       "      <th>start_station_name</th>\n",
       "      <th>start_station_id</th>\n",
       "      <th>end_station_name</th>\n",
       "      <th>end_station_id</th>\n",
       "      <th>start_lat</th>\n",
       "      <th>start_lng</th>\n",
       "      <th>end_lat</th>\n",
       "      <th>end_lng</th>\n",
       "      <th>member_casual</th>\n",
       "    </tr>\n",
       "  </thead>\n",
       "  <tbody>\n",
       "    <tr>\n",
       "      <th>0</th>\n",
       "      <td>A847FADBBC638E45</td>\n",
       "      <td>docked_bike</td>\n",
       "      <td>2020-04-26 17:45:14</td>\n",
       "      <td>2020-04-26 18:12:03</td>\n",
       "      <td>Eckhart Park</td>\n",
       "      <td>86</td>\n",
       "      <td>Lincoln Ave &amp; Diversey Pkwy</td>\n",
       "      <td>152.0</td>\n",
       "      <td>41.8964</td>\n",
       "      <td>-87.6610</td>\n",
       "      <td>41.9322</td>\n",
       "      <td>-87.6586</td>\n",
       "      <td>member</td>\n",
       "    </tr>\n",
       "    <tr>\n",
       "      <th>1</th>\n",
       "      <td>5405B80E996FF60D</td>\n",
       "      <td>docked_bike</td>\n",
       "      <td>2020-04-17 17:08:54</td>\n",
       "      <td>2020-04-17 17:17:03</td>\n",
       "      <td>Drake Ave &amp; Fullerton Ave</td>\n",
       "      <td>503</td>\n",
       "      <td>Kosciuszko Park</td>\n",
       "      <td>499.0</td>\n",
       "      <td>41.9244</td>\n",
       "      <td>-87.7154</td>\n",
       "      <td>41.9306</td>\n",
       "      <td>-87.7238</td>\n",
       "      <td>member</td>\n",
       "    </tr>\n",
       "    <tr>\n",
       "      <th>2</th>\n",
       "      <td>5DD24A79A4E006F4</td>\n",
       "      <td>docked_bike</td>\n",
       "      <td>2020-04-01 17:54:13</td>\n",
       "      <td>2020-04-01 18:08:36</td>\n",
       "      <td>McClurg Ct &amp; Erie St</td>\n",
       "      <td>142</td>\n",
       "      <td>Indiana Ave &amp; Roosevelt Rd</td>\n",
       "      <td>255.0</td>\n",
       "      <td>41.8945</td>\n",
       "      <td>-87.6179</td>\n",
       "      <td>41.8679</td>\n",
       "      <td>-87.6230</td>\n",
       "      <td>member</td>\n",
       "    </tr>\n",
       "    <tr>\n",
       "      <th>3</th>\n",
       "      <td>2A59BBDF5CDBA725</td>\n",
       "      <td>docked_bike</td>\n",
       "      <td>2020-04-07 12:50:19</td>\n",
       "      <td>2020-04-07 13:02:31</td>\n",
       "      <td>California Ave &amp; Division St</td>\n",
       "      <td>216</td>\n",
       "      <td>Wood St &amp; Augusta Blvd</td>\n",
       "      <td>657.0</td>\n",
       "      <td>41.9030</td>\n",
       "      <td>-87.6975</td>\n",
       "      <td>41.8992</td>\n",
       "      <td>-87.6722</td>\n",
       "      <td>member</td>\n",
       "    </tr>\n",
       "    <tr>\n",
       "      <th>4</th>\n",
       "      <td>27AD306C119C6158</td>\n",
       "      <td>docked_bike</td>\n",
       "      <td>2020-04-18 10:22:59</td>\n",
       "      <td>2020-04-18 11:15:54</td>\n",
       "      <td>Rush St &amp; Hubbard St</td>\n",
       "      <td>125</td>\n",
       "      <td>Sheridan Rd &amp; Lawrence Ave</td>\n",
       "      <td>323.0</td>\n",
       "      <td>41.8902</td>\n",
       "      <td>-87.6262</td>\n",
       "      <td>41.9695</td>\n",
       "      <td>-87.6547</td>\n",
       "      <td>casual</td>\n",
       "    </tr>\n",
       "  </tbody>\n",
       "</table>\n",
       "</div>"
      ],
      "text/plain": [
       "            ride_id rideable_type           started_at             ended_at  \\\n",
       "0  A847FADBBC638E45   docked_bike  2020-04-26 17:45:14  2020-04-26 18:12:03   \n",
       "1  5405B80E996FF60D   docked_bike  2020-04-17 17:08:54  2020-04-17 17:17:03   \n",
       "2  5DD24A79A4E006F4   docked_bike  2020-04-01 17:54:13  2020-04-01 18:08:36   \n",
       "3  2A59BBDF5CDBA725   docked_bike  2020-04-07 12:50:19  2020-04-07 13:02:31   \n",
       "4  27AD306C119C6158   docked_bike  2020-04-18 10:22:59  2020-04-18 11:15:54   \n",
       "\n",
       "             start_station_name start_station_id             end_station_name  \\\n",
       "0                  Eckhart Park               86  Lincoln Ave & Diversey Pkwy   \n",
       "1     Drake Ave & Fullerton Ave              503              Kosciuszko Park   \n",
       "2          McClurg Ct & Erie St              142   Indiana Ave & Roosevelt Rd   \n",
       "3  California Ave & Division St              216       Wood St & Augusta Blvd   \n",
       "4          Rush St & Hubbard St              125   Sheridan Rd & Lawrence Ave   \n",
       "\n",
       "  end_station_id  start_lat  start_lng  end_lat  end_lng member_casual  \n",
       "0          152.0    41.8964   -87.6610  41.9322 -87.6586        member  \n",
       "1          499.0    41.9244   -87.7154  41.9306 -87.7238        member  \n",
       "2          255.0    41.8945   -87.6179  41.8679 -87.6230        member  \n",
       "3          657.0    41.9030   -87.6975  41.8992 -87.6722        member  \n",
       "4          323.0    41.8902   -87.6262  41.9695 -87.6547        casual  "
      ]
     },
     "execution_count": 3,
     "metadata": {},
     "output_type": "execute_result"
    }
   ],
   "source": [
    "# Prints the top five rows of the data\n",
    "Main_df.head()"
   ]
  },
  {
   "cell_type": "code",
   "execution_count": 4,
   "id": "32dcf322",
   "metadata": {},
   "outputs": [
    {
     "data": {
      "text/plain": [
       "3489384"
      ]
     },
     "execution_count": 4,
     "metadata": {},
     "output_type": "execute_result"
    }
   ],
   "source": [
    "# Check the number of raws in the dataframe.\n",
    "len(Main_df.index)"
   ]
  },
  {
   "cell_type": "code",
   "execution_count": 5,
   "id": "493619ad",
   "metadata": {
    "scrolled": true
   },
   "outputs": [
    {
     "name": "stdout",
     "output_type": "stream",
     "text": [
      "<class 'pandas.core.frame.DataFrame'>\n",
      "RangeIndex: 3489384 entries, 0 to 3489383\n",
      "Data columns (total 13 columns):\n",
      " #   Column              Dtype  \n",
      "---  ------              -----  \n",
      " 0   ride_id             object \n",
      " 1   rideable_type       object \n",
      " 2   started_at          object \n",
      " 3   ended_at            object \n",
      " 4   start_station_name  object \n",
      " 5   start_station_id    object \n",
      " 6   end_station_name    object \n",
      " 7   end_station_id      object \n",
      " 8   start_lat           float64\n",
      " 9   start_lng           float64\n",
      " 10  end_lat             float64\n",
      " 11  end_lng             float64\n",
      " 12  member_casual       object \n",
      "dtypes: float64(4), object(9)\n",
      "memory usage: 2.0 GB\n"
     ]
    }
   ],
   "source": [
    "# Get information from our dataframe (number of records, memory use and data types)\n",
    "Main_df.info(memory_usage = 'deep')"
   ]
  },
  {
   "cell_type": "code",
   "execution_count": 6,
   "id": "c9ac5a2e",
   "metadata": {
    "scrolled": true
   },
   "outputs": [
    {
     "data": {
      "text/html": [
       "<div>\n",
       "<style scoped>\n",
       "    .dataframe tbody tr th:only-of-type {\n",
       "        vertical-align: middle;\n",
       "    }\n",
       "\n",
       "    .dataframe tbody tr th {\n",
       "        vertical-align: top;\n",
       "    }\n",
       "\n",
       "    .dataframe thead th {\n",
       "        text-align: right;\n",
       "    }\n",
       "</style>\n",
       "<table border=\"1\" class=\"dataframe\">\n",
       "  <thead>\n",
       "    <tr style=\"text-align: right;\">\n",
       "      <th></th>\n",
       "      <th>start_lat</th>\n",
       "      <th>start_lng</th>\n",
       "      <th>end_lat</th>\n",
       "      <th>end_lng</th>\n",
       "    </tr>\n",
       "  </thead>\n",
       "  <tbody>\n",
       "    <tr>\n",
       "      <th>count</th>\n",
       "      <td>3489384.000</td>\n",
       "      <td>3489384.000</td>\n",
       "      <td>3484646.000</td>\n",
       "      <td>3484646.000</td>\n",
       "    </tr>\n",
       "    <tr>\n",
       "      <th>mean</th>\n",
       "      <td>41.904</td>\n",
       "      <td>-87.645</td>\n",
       "      <td>41.904</td>\n",
       "      <td>-87.645</td>\n",
       "    </tr>\n",
       "    <tr>\n",
       "      <th>std</th>\n",
       "      <td>0.044</td>\n",
       "      <td>0.026</td>\n",
       "      <td>0.044</td>\n",
       "      <td>0.026</td>\n",
       "    </tr>\n",
       "    <tr>\n",
       "      <th>min</th>\n",
       "      <td>41.640</td>\n",
       "      <td>-87.870</td>\n",
       "      <td>41.540</td>\n",
       "      <td>-88.070</td>\n",
       "    </tr>\n",
       "    <tr>\n",
       "      <th>25%</th>\n",
       "      <td>41.882</td>\n",
       "      <td>-87.659</td>\n",
       "      <td>41.883</td>\n",
       "      <td>-87.659</td>\n",
       "    </tr>\n",
       "    <tr>\n",
       "      <th>50%</th>\n",
       "      <td>41.900</td>\n",
       "      <td>-87.642</td>\n",
       "      <td>41.901</td>\n",
       "      <td>-87.643</td>\n",
       "    </tr>\n",
       "    <tr>\n",
       "      <th>75%</th>\n",
       "      <td>41.930</td>\n",
       "      <td>-87.628</td>\n",
       "      <td>41.931</td>\n",
       "      <td>-87.628</td>\n",
       "    </tr>\n",
       "    <tr>\n",
       "      <th>max</th>\n",
       "      <td>42.080</td>\n",
       "      <td>-87.520</td>\n",
       "      <td>42.160</td>\n",
       "      <td>-87.440</td>\n",
       "    </tr>\n",
       "  </tbody>\n",
       "</table>\n",
       "</div>"
      ],
      "text/plain": [
       "         start_lat    start_lng      end_lat      end_lng\n",
       "count  3489384.000  3489384.000  3484646.000  3484646.000\n",
       "mean        41.904      -87.645       41.904      -87.645\n",
       "std          0.044        0.026        0.044        0.026\n",
       "min         41.640      -87.870       41.540      -88.070\n",
       "25%         41.882      -87.659       41.883      -87.659\n",
       "50%         41.900      -87.642       41.901      -87.643\n",
       "75%         41.930      -87.628       41.931      -87.628\n",
       "max         42.080      -87.520       42.160      -87.440"
      ]
     },
     "execution_count": 6,
     "metadata": {},
     "output_type": "execute_result"
    }
   ],
   "source": [
    "# Get descriptive statistics under each numeric column\n",
    "Main_df.describe().apply(lambda s: s.apply('{0:.3f}'.format))"
   ]
  },
  {
   "cell_type": "markdown",
   "id": "efa2141c",
   "metadata": {},
   "source": [
    "# A. Data cleaning"
   ]
  },
  {
   "cell_type": "markdown",
   "id": "f8f33f2d",
   "metadata": {},
   "source": [
    "## Checking for duplicate values"
   ]
  },
  {
   "cell_type": "code",
   "execution_count": 7,
   "id": "548b07de",
   "metadata": {},
   "outputs": [
    {
     "name": "stdout",
     "output_type": "stream",
     "text": [
      "Unique values per column\n",
      "ride_id: 3489108\n",
      "rideable_type: 3\n",
      "started_at: 2205321\n",
      "ended_at: 2196019\n",
      "start_station_name: 708\n",
      "start_station_id: 1344\n",
      "end_station_name: 706\n",
      "end_station_id: 1345\n",
      "start_lat: 296482\n",
      "start_lng: 291862\n",
      "end_lat: 319770\n",
      "end_lng: 307617\n",
      "member_casual: 2\n"
     ]
    }
   ],
   "source": [
    "# checking the number of unique values per column\n",
    "print(\"Unique values per column\")\n",
    "for col in Main_df.columns:\n",
    "    print(f\"{col}: {Main_df[col].nunique()}\")"
   ]
  },
  {
   "cell_type": "markdown",
   "id": "58c1419b",
   "metadata": {},
   "source": [
    "### Findig the duplicates for ride_id"
   ]
  },
  {
   "cell_type": "code",
   "execution_count": 8,
   "id": "abb354c2",
   "metadata": {},
   "outputs": [
    {
     "name": "stdout",
     "output_type": "stream",
     "text": [
      "Number of duplicates for ride_id: 264\n",
      "Sample rows:\n"
     ]
    },
    {
     "data": {
      "text/html": [
       "<div>\n",
       "<style scoped>\n",
       "    .dataframe tbody tr th:only-of-type {\n",
       "        vertical-align: middle;\n",
       "    }\n",
       "\n",
       "    .dataframe tbody tr th {\n",
       "        vertical-align: top;\n",
       "    }\n",
       "\n",
       "    .dataframe thead th {\n",
       "        text-align: right;\n",
       "    }\n",
       "</style>\n",
       "<table border=\"1\" class=\"dataframe\">\n",
       "  <thead>\n",
       "    <tr style=\"text-align: right;\">\n",
       "      <th></th>\n",
       "      <th>ride_id</th>\n",
       "      <th>rideable_type</th>\n",
       "      <th>started_at</th>\n",
       "      <th>ended_at</th>\n",
       "      <th>start_station_name</th>\n",
       "      <th>start_station_id</th>\n",
       "      <th>end_station_name</th>\n",
       "      <th>end_station_id</th>\n",
       "      <th>start_lat</th>\n",
       "      <th>start_lng</th>\n",
       "      <th>end_lat</th>\n",
       "      <th>end_lng</th>\n",
       "      <th>member_casual</th>\n",
       "    </tr>\n",
       "  </thead>\n",
       "  <tbody>\n",
       "    <tr>\n",
       "      <th>2829219</th>\n",
       "      <td>021A73F8C18B932D</td>\n",
       "      <td>docked_bike</td>\n",
       "      <td>2020-11-25 16:35:39</td>\n",
       "      <td>2020-11-25 16:48:02</td>\n",
       "      <td>Clark St &amp; Winnemac Ave</td>\n",
       "      <td>325.0</td>\n",
       "      <td>Ravenswood Ave &amp; Berteau Ave</td>\n",
       "      <td>314.0</td>\n",
       "      <td>41.973347</td>\n",
       "      <td>-87.667855</td>\n",
       "      <td>41.957921</td>\n",
       "      <td>-87.673567</td>\n",
       "      <td>member</td>\n",
       "    </tr>\n",
       "    <tr>\n",
       "      <th>3006144</th>\n",
       "      <td>021A73F8C18B932D</td>\n",
       "      <td>docked_bike</td>\n",
       "      <td>12/15/2020 12:15</td>\n",
       "      <td>11/25/2020 16:48</td>\n",
       "      <td>Clark St &amp; Winnemac Ave</td>\n",
       "      <td>TA1309000035</td>\n",
       "      <td>Ravenswood Ave &amp; Berteau Ave</td>\n",
       "      <td>TA1309000018</td>\n",
       "      <td>41.973347</td>\n",
       "      <td>-87.667855</td>\n",
       "      <td>41.957921</td>\n",
       "      <td>-87.673567</td>\n",
       "      <td>member</td>\n",
       "    </tr>\n",
       "    <tr>\n",
       "      <th>3020020</th>\n",
       "      <td>0334987B57662109</td>\n",
       "      <td>docked_bike</td>\n",
       "      <td>12/15/2020 11:56</td>\n",
       "      <td>11/25/2020 16:22</td>\n",
       "      <td>Broadway &amp; Berwyn Ave</td>\n",
       "      <td>13109</td>\n",
       "      <td>Lakefront Trail &amp; Bryn Mawr Ave</td>\n",
       "      <td>KA1504000152</td>\n",
       "      <td>41.978353</td>\n",
       "      <td>-87.659753</td>\n",
       "      <td>41.984037</td>\n",
       "      <td>-87.652310</td>\n",
       "      <td>member</td>\n",
       "    </tr>\n",
       "    <tr>\n",
       "      <th>2797158</th>\n",
       "      <td>0334987B57662109</td>\n",
       "      <td>docked_bike</td>\n",
       "      <td>2020-11-25 16:15:04</td>\n",
       "      <td>2020-11-25 16:22:04</td>\n",
       "      <td>Broadway &amp; Berwyn Ave</td>\n",
       "      <td>294.0</td>\n",
       "      <td>Lakefront Trail &amp; Bryn Mawr Ave</td>\n",
       "      <td>459.0</td>\n",
       "      <td>41.978353</td>\n",
       "      <td>-87.659753</td>\n",
       "      <td>41.984037</td>\n",
       "      <td>-87.652310</td>\n",
       "      <td>member</td>\n",
       "    </tr>\n",
       "    <tr>\n",
       "      <th>3029795</th>\n",
       "      <td>038CAB4A84D9A56B</td>\n",
       "      <td>docked_bike</td>\n",
       "      <td>12/15/2020 11:57</td>\n",
       "      <td>11/25/2020 16:24</td>\n",
       "      <td>Wabash Ave &amp; 9th St</td>\n",
       "      <td>TA1309000010</td>\n",
       "      <td>Wabash Ave &amp; 9th St</td>\n",
       "      <td>TA1309000010</td>\n",
       "      <td>41.870769</td>\n",
       "      <td>-87.625734</td>\n",
       "      <td>41.870769</td>\n",
       "      <td>-87.625734</td>\n",
       "      <td>member</td>\n",
       "    </tr>\n",
       "  </tbody>\n",
       "</table>\n",
       "</div>"
      ],
      "text/plain": [
       "                  ride_id rideable_type           started_at  \\\n",
       "2829219  021A73F8C18B932D   docked_bike  2020-11-25 16:35:39   \n",
       "3006144  021A73F8C18B932D   docked_bike     12/15/2020 12:15   \n",
       "3020020  0334987B57662109   docked_bike     12/15/2020 11:56   \n",
       "2797158  0334987B57662109   docked_bike  2020-11-25 16:15:04   \n",
       "3029795  038CAB4A84D9A56B   docked_bike     12/15/2020 11:57   \n",
       "\n",
       "                    ended_at       start_station_name start_station_id  \\\n",
       "2829219  2020-11-25 16:48:02  Clark St & Winnemac Ave            325.0   \n",
       "3006144     11/25/2020 16:48  Clark St & Winnemac Ave     TA1309000035   \n",
       "3020020     11/25/2020 16:22    Broadway & Berwyn Ave            13109   \n",
       "2797158  2020-11-25 16:22:04    Broadway & Berwyn Ave            294.0   \n",
       "3029795     11/25/2020 16:24      Wabash Ave & 9th St     TA1309000010   \n",
       "\n",
       "                        end_station_name end_station_id  start_lat  start_lng  \\\n",
       "2829219     Ravenswood Ave & Berteau Ave          314.0  41.973347 -87.667855   \n",
       "3006144     Ravenswood Ave & Berteau Ave   TA1309000018  41.973347 -87.667855   \n",
       "3020020  Lakefront Trail & Bryn Mawr Ave   KA1504000152  41.978353 -87.659753   \n",
       "2797158  Lakefront Trail & Bryn Mawr Ave          459.0  41.978353 -87.659753   \n",
       "3029795              Wabash Ave & 9th St   TA1309000010  41.870769 -87.625734   \n",
       "\n",
       "           end_lat    end_lng member_casual  \n",
       "2829219  41.957921 -87.673567        member  \n",
       "3006144  41.957921 -87.673567        member  \n",
       "3020020  41.984037 -87.652310        member  \n",
       "2797158  41.984037 -87.652310        member  \n",
       "3029795  41.870769 -87.625734        member  "
      ]
     },
     "execution_count": 8,
     "metadata": {},
     "output_type": "execute_result"
    }
   ],
   "source": [
    "def get_duplicates(field: str) -> pd.DataFrame:\n",
    "    \"\"\"Display rows with duplicate ride_ids\"\"\"\n",
    "    vc = Main_df[field].value_counts()\n",
    "    duplicate_index = vc[vc > 1].index.to_list()\n",
    "    n_duplicates = len(duplicate_index)\n",
    "    print(f\"Number of duplicates for {field}: {n_duplicates}\")\n",
    "    if n_duplicates > 0:\n",
    "        print(\"Sample rows:\")\n",
    "        mask = Main_df[field].isin(duplicate_index)\n",
    "        return Main_df[mask].sort_values(by = field).head()\n",
    "    return\n",
    "\n",
    "get_duplicates('ride_id')"
   ]
  },
  {
   "cell_type": "markdown",
   "id": "9b6cc99e",
   "metadata": {},
   "source": [
    "## Drop duplicate ride_id"
   ]
  },
  {
   "cell_type": "code",
   "execution_count": 9,
   "id": "1b114ba0",
   "metadata": {},
   "outputs": [],
   "source": [
    "Main_df = Main_df.drop_duplicates(subset=['ride_id'])"
   ]
  },
  {
   "cell_type": "code",
   "execution_count": 10,
   "id": "296d5e8a",
   "metadata": {},
   "outputs": [
    {
     "name": "stdout",
     "output_type": "stream",
     "text": [
      "Number of duplicates for ride_id: 0\n"
     ]
    }
   ],
   "source": [
    "# Confirm that duplicate ride_ids were dropped\n",
    "get_duplicates('ride_id')"
   ]
  },
  {
   "cell_type": "markdown",
   "id": "d90a4b93",
   "metadata": {},
   "source": [
    "# Check for NaN values"
   ]
  },
  {
   "cell_type": "code",
   "execution_count": 11,
   "id": "eb183b38",
   "metadata": {},
   "outputs": [
    {
     "data": {
      "text/plain": [
       "122723"
      ]
     },
     "execution_count": 11,
     "metadata": {},
     "output_type": "execute_result"
    }
   ],
   "source": [
    "# Check for NaN values in start_station_id\n",
    "Main_df['start_station_id'].isna().sum()"
   ]
  },
  {
   "cell_type": "markdown",
   "id": "4ada53c3",
   "metadata": {},
   "source": [
    "## Drop NaN values in start_station_id"
   ]
  },
  {
   "cell_type": "code",
   "execution_count": 12,
   "id": "ea91fa9e",
   "metadata": {},
   "outputs": [],
   "source": [
    "Main_df = Main_df.dropna(subset=['start_station_id']) "
   ]
  },
  {
   "cell_type": "code",
   "execution_count": 13,
   "id": "01787530",
   "metadata": {},
   "outputs": [
    {
     "data": {
      "text/plain": [
       "0"
      ]
     },
     "execution_count": 13,
     "metadata": {},
     "output_type": "execute_result"
    }
   ],
   "source": [
    "#Confirm that NaN values were dropped.\n",
    "Main_df['start_station_id'].isna().sum()"
   ]
  },
  {
   "cell_type": "code",
   "execution_count": 14,
   "id": "35cfce76",
   "metadata": {},
   "outputs": [
    {
     "data": {
      "text/plain": [
       "72208"
      ]
     },
     "execution_count": 14,
     "metadata": {},
     "output_type": "execute_result"
    }
   ],
   "source": [
    "# Check for NaN values in end_station_id\n",
    "Main_df['end_station_id'].isna().sum()"
   ]
  },
  {
   "cell_type": "markdown",
   "id": "b6b37bff",
   "metadata": {},
   "source": [
    "## Drop NaN values in end_station_id"
   ]
  },
  {
   "cell_type": "code",
   "execution_count": 15,
   "id": "70d161d3",
   "metadata": {},
   "outputs": [],
   "source": [
    "Main_df = Main_df.dropna(subset=['end_station_id'])"
   ]
  },
  {
   "cell_type": "code",
   "execution_count": 16,
   "id": "012879a2",
   "metadata": {},
   "outputs": [
    {
     "data": {
      "text/plain": [
       "0"
      ]
     },
     "execution_count": 16,
     "metadata": {},
     "output_type": "execute_result"
    }
   ],
   "source": [
    "#Confirm that NaN values were dropped.\n",
    "Main_df['end_station_id'].isna().sum()"
   ]
  },
  {
   "cell_type": "markdown",
   "id": "e253d3dc",
   "metadata": {},
   "source": [
    "# B. Data Manipulation.\n",
    "### Adding the necessary columns"
   ]
  },
  {
   "cell_type": "markdown",
   "id": "4ef0c5d0",
   "metadata": {},
   "source": [
    "## 1. Add a ride_duration column "
   ]
  },
  {
   "cell_type": "code",
   "execution_count": 17,
   "id": "6f148fa5",
   "metadata": {},
   "outputs": [],
   "source": [
    "# convert time object to datetime\n",
    "\n",
    "Main_df['started_at'] = Main_df['started_at'].astype('datetime64[ns]')\n",
    "Main_df['ended_at'] = Main_df['ended_at'].astype('datetime64[ns]')"
   ]
  },
  {
   "cell_type": "code",
   "execution_count": 18,
   "id": "8ed1b221",
   "metadata": {},
   "outputs": [],
   "source": [
    "# Adds ride_duration column\n",
    "Main_df['ride_duration_mins'] = (((Main_df['ended_at'] - Main_df['started_at']))/pd.Timedelta(minutes=1))"
   ]
  },
  {
   "cell_type": "markdown",
   "id": "8e9c5de4",
   "metadata": {},
   "source": [
    "### 2. Add a day column to show which day the ride starts"
   ]
  },
  {
   "cell_type": "code",
   "execution_count": 19,
   "id": "aa8037ee",
   "metadata": {},
   "outputs": [],
   "source": [
    "Main_df['day'] = pd.to_datetime(Main_df['started_at']).dt.day_name()"
   ]
  },
  {
   "cell_type": "markdown",
   "id": "148b03dc",
   "metadata": {},
   "source": [
    "### 3. Add a month_year column"
   ]
  },
  {
   "cell_type": "code",
   "execution_count": 20,
   "id": "a513b1c9",
   "metadata": {},
   "outputs": [],
   "source": [
    "Main_df['month'] = pd.to_datetime(Main_df['started_at']).dt.strftime('%B-%Y')"
   ]
  },
  {
   "cell_type": "markdown",
   "id": "b5b111b8",
   "metadata": {},
   "source": [
    "### 4. Add a ride_distance column\n",
    "#### Subtract start and end coordinates"
   ]
  },
  {
   "cell_type": "code",
   "execution_count": 21,
   "id": "3277065a",
   "metadata": {},
   "outputs": [],
   "source": [
    "Main_df['ride_distance'] = Main_df.apply(lambda row: h3.point_dist((row['start_lat'], row['start_lng']), (row['end_lat'], row['end_lng']), unit='km'), axis=1)"
   ]
  },
  {
   "cell_type": "code",
   "execution_count": 22,
   "id": "9ee5542a",
   "metadata": {},
   "outputs": [
    {
     "data": {
      "text/plain": [
       "286864"
      ]
     },
     "execution_count": 22,
     "metadata": {},
     "output_type": "execute_result"
    }
   ],
   "source": [
    "# Count number of rows where ride_distance is equal to or less than zero\n",
    "\n",
    "(Main_df['ride_distance'] <=0).sum()  .sum()"
   ]
  },
  {
   "cell_type": "code",
   "execution_count": 23,
   "id": "d06caff7",
   "metadata": {},
   "outputs": [
    {
     "data": {
      "text/plain": [
       "3294177"
      ]
     },
     "execution_count": 23,
     "metadata": {},
     "output_type": "execute_result"
    }
   ],
   "source": [
    "# Count total rows in Main_df\n",
    "len(Main_df.index)"
   ]
  },
  {
   "cell_type": "code",
   "execution_count": 24,
   "id": "37033c28",
   "metadata": {},
   "outputs": [],
   "source": [
    "# Drop the zero and negative vales in ride_distance\n",
    "Main_df = Main_df.drop(Main_df[(Main_df['ride_distance'] <=0)].index)"
   ]
  },
  {
   "cell_type": "code",
   "execution_count": 25,
   "id": "4f73969a",
   "metadata": {},
   "outputs": [
    {
     "data": {
      "text/plain": [
       "0"
      ]
     },
     "execution_count": 25,
     "metadata": {},
     "output_type": "execute_result"
    }
   ],
   "source": [
    "#Check that there are no more zero and negative values in ride_distance\n",
    "(Main_df['ride_distance'] <=0).sum()  .sum()"
   ]
  },
  {
   "cell_type": "code",
   "execution_count": 26,
   "id": "f3693d79",
   "metadata": {},
   "outputs": [
    {
     "data": {
      "text/plain": [
       "3007313"
      ]
     },
     "execution_count": 26,
     "metadata": {},
     "output_type": "execute_result"
    }
   ],
   "source": [
    "# Count total rows in Main_df\n",
    "len(Main_df.index)"
   ]
  },
  {
   "cell_type": "markdown",
   "id": "f0f177b1",
   "metadata": {},
   "source": [
    "### 5. Add a start_hour column\n",
    "It helps determine what time of day most riders get the bikes"
   ]
  },
  {
   "cell_type": "code",
   "execution_count": 27,
   "id": "c554b5bc",
   "metadata": {},
   "outputs": [],
   "source": [
    "Main_df['start_hour'] = Main_df['started_at'].dt.hour"
   ]
  },
  {
   "cell_type": "code",
   "execution_count": 28,
   "id": "93069ee1",
   "metadata": {
    "scrolled": true
   },
   "outputs": [
    {
     "data": {
      "text/html": [
       "<div>\n",
       "<style scoped>\n",
       "    .dataframe tbody tr th:only-of-type {\n",
       "        vertical-align: middle;\n",
       "    }\n",
       "\n",
       "    .dataframe tbody tr th {\n",
       "        vertical-align: top;\n",
       "    }\n",
       "\n",
       "    .dataframe thead th {\n",
       "        text-align: right;\n",
       "    }\n",
       "</style>\n",
       "<table border=\"1\" class=\"dataframe\">\n",
       "  <thead>\n",
       "    <tr style=\"text-align: right;\">\n",
       "      <th></th>\n",
       "      <th>ride_id</th>\n",
       "      <th>rideable_type</th>\n",
       "      <th>started_at</th>\n",
       "      <th>ended_at</th>\n",
       "      <th>start_station_name</th>\n",
       "      <th>start_station_id</th>\n",
       "      <th>end_station_name</th>\n",
       "      <th>end_station_id</th>\n",
       "      <th>start_lat</th>\n",
       "      <th>start_lng</th>\n",
       "      <th>end_lat</th>\n",
       "      <th>end_lng</th>\n",
       "      <th>member_casual</th>\n",
       "      <th>ride_duration_mins</th>\n",
       "      <th>day</th>\n",
       "      <th>month</th>\n",
       "      <th>ride_distance</th>\n",
       "      <th>start_hour</th>\n",
       "    </tr>\n",
       "  </thead>\n",
       "  <tbody>\n",
       "    <tr>\n",
       "      <th>0</th>\n",
       "      <td>A847FADBBC638E45</td>\n",
       "      <td>docked_bike</td>\n",
       "      <td>2020-04-26 17:45:14</td>\n",
       "      <td>2020-04-26 18:12:03</td>\n",
       "      <td>Eckhart Park</td>\n",
       "      <td>86</td>\n",
       "      <td>Lincoln Ave &amp; Diversey Pkwy</td>\n",
       "      <td>152.0</td>\n",
       "      <td>41.8964</td>\n",
       "      <td>-87.6610</td>\n",
       "      <td>41.9322</td>\n",
       "      <td>-87.6586</td>\n",
       "      <td>member</td>\n",
       "      <td>26.816667</td>\n",
       "      <td>Sunday</td>\n",
       "      <td>April-2020</td>\n",
       "      <td>3.985733</td>\n",
       "      <td>17</td>\n",
       "    </tr>\n",
       "    <tr>\n",
       "      <th>1</th>\n",
       "      <td>5405B80E996FF60D</td>\n",
       "      <td>docked_bike</td>\n",
       "      <td>2020-04-17 17:08:54</td>\n",
       "      <td>2020-04-17 17:17:03</td>\n",
       "      <td>Drake Ave &amp; Fullerton Ave</td>\n",
       "      <td>503</td>\n",
       "      <td>Kosciuszko Park</td>\n",
       "      <td>499.0</td>\n",
       "      <td>41.9244</td>\n",
       "      <td>-87.7154</td>\n",
       "      <td>41.9306</td>\n",
       "      <td>-87.7238</td>\n",
       "      <td>member</td>\n",
       "      <td>8.150000</td>\n",
       "      <td>Friday</td>\n",
       "      <td>April-2020</td>\n",
       "      <td>0.978874</td>\n",
       "      <td>17</td>\n",
       "    </tr>\n",
       "    <tr>\n",
       "      <th>2</th>\n",
       "      <td>5DD24A79A4E006F4</td>\n",
       "      <td>docked_bike</td>\n",
       "      <td>2020-04-01 17:54:13</td>\n",
       "      <td>2020-04-01 18:08:36</td>\n",
       "      <td>McClurg Ct &amp; Erie St</td>\n",
       "      <td>142</td>\n",
       "      <td>Indiana Ave &amp; Roosevelt Rd</td>\n",
       "      <td>255.0</td>\n",
       "      <td>41.8945</td>\n",
       "      <td>-87.6179</td>\n",
       "      <td>41.8679</td>\n",
       "      <td>-87.6230</td>\n",
       "      <td>member</td>\n",
       "      <td>14.383333</td>\n",
       "      <td>Wednesday</td>\n",
       "      <td>April-2020</td>\n",
       "      <td>2.987772</td>\n",
       "      <td>17</td>\n",
       "    </tr>\n",
       "    <tr>\n",
       "      <th>3</th>\n",
       "      <td>2A59BBDF5CDBA725</td>\n",
       "      <td>docked_bike</td>\n",
       "      <td>2020-04-07 12:50:19</td>\n",
       "      <td>2020-04-07 13:02:31</td>\n",
       "      <td>California Ave &amp; Division St</td>\n",
       "      <td>216</td>\n",
       "      <td>Wood St &amp; Augusta Blvd</td>\n",
       "      <td>657.0</td>\n",
       "      <td>41.9030</td>\n",
       "      <td>-87.6975</td>\n",
       "      <td>41.8992</td>\n",
       "      <td>-87.6722</td>\n",
       "      <td>member</td>\n",
       "      <td>12.200000</td>\n",
       "      <td>Tuesday</td>\n",
       "      <td>April-2020</td>\n",
       "      <td>2.136096</td>\n",
       "      <td>12</td>\n",
       "    </tr>\n",
       "    <tr>\n",
       "      <th>4</th>\n",
       "      <td>27AD306C119C6158</td>\n",
       "      <td>docked_bike</td>\n",
       "      <td>2020-04-18 10:22:59</td>\n",
       "      <td>2020-04-18 11:15:54</td>\n",
       "      <td>Rush St &amp; Hubbard St</td>\n",
       "      <td>125</td>\n",
       "      <td>Sheridan Rd &amp; Lawrence Ave</td>\n",
       "      <td>323.0</td>\n",
       "      <td>41.8902</td>\n",
       "      <td>-87.6262</td>\n",
       "      <td>41.9695</td>\n",
       "      <td>-87.6547</td>\n",
       "      <td>casual</td>\n",
       "      <td>52.916667</td>\n",
       "      <td>Saturday</td>\n",
       "      <td>April-2020</td>\n",
       "      <td>9.127519</td>\n",
       "      <td>10</td>\n",
       "    </tr>\n",
       "  </tbody>\n",
       "</table>\n",
       "</div>"
      ],
      "text/plain": [
       "            ride_id rideable_type          started_at            ended_at  \\\n",
       "0  A847FADBBC638E45   docked_bike 2020-04-26 17:45:14 2020-04-26 18:12:03   \n",
       "1  5405B80E996FF60D   docked_bike 2020-04-17 17:08:54 2020-04-17 17:17:03   \n",
       "2  5DD24A79A4E006F4   docked_bike 2020-04-01 17:54:13 2020-04-01 18:08:36   \n",
       "3  2A59BBDF5CDBA725   docked_bike 2020-04-07 12:50:19 2020-04-07 13:02:31   \n",
       "4  27AD306C119C6158   docked_bike 2020-04-18 10:22:59 2020-04-18 11:15:54   \n",
       "\n",
       "             start_station_name start_station_id             end_station_name  \\\n",
       "0                  Eckhart Park               86  Lincoln Ave & Diversey Pkwy   \n",
       "1     Drake Ave & Fullerton Ave              503              Kosciuszko Park   \n",
       "2          McClurg Ct & Erie St              142   Indiana Ave & Roosevelt Rd   \n",
       "3  California Ave & Division St              216       Wood St & Augusta Blvd   \n",
       "4          Rush St & Hubbard St              125   Sheridan Rd & Lawrence Ave   \n",
       "\n",
       "  end_station_id  start_lat  start_lng  end_lat  end_lng member_casual  \\\n",
       "0          152.0    41.8964   -87.6610  41.9322 -87.6586        member   \n",
       "1          499.0    41.9244   -87.7154  41.9306 -87.7238        member   \n",
       "2          255.0    41.8945   -87.6179  41.8679 -87.6230        member   \n",
       "3          657.0    41.9030   -87.6975  41.8992 -87.6722        member   \n",
       "4          323.0    41.8902   -87.6262  41.9695 -87.6547        casual   \n",
       "\n",
       "   ride_duration_mins        day       month  ride_distance  start_hour  \n",
       "0           26.816667     Sunday  April-2020       3.985733          17  \n",
       "1            8.150000     Friday  April-2020       0.978874          17  \n",
       "2           14.383333  Wednesday  April-2020       2.987772          17  \n",
       "3           12.200000    Tuesday  April-2020       2.136096          12  \n",
       "4           52.916667   Saturday  April-2020       9.127519          10  "
      ]
     },
     "execution_count": 28,
     "metadata": {},
     "output_type": "execute_result"
    }
   ],
   "source": [
    "Main_df.head()"
   ]
  },
  {
   "cell_type": "markdown",
   "id": "70de067e",
   "metadata": {},
   "source": [
    "### Extract the seasons from started_at"
   ]
  },
  {
   "cell_type": "code",
   "execution_count": 29,
   "id": "7d8b965f",
   "metadata": {},
   "outputs": [],
   "source": [
    "Main_df['season'] = (Main_df['started_at'].dt.month%12 + 3)//3\n",
    "\n",
    "seasons = {\n",
    "             1: 'Winter',\n",
    "             2: 'Spring',\n",
    "             3: 'Summer',\n",
    "             4: 'Autumn'\n",
    "}\n",
    "\n",
    "Main_df['season'] = Main_df['season'].map(seasons)"
   ]
  },
  {
   "cell_type": "code",
   "execution_count": 30,
   "id": "e4f20853",
   "metadata": {},
   "outputs": [
    {
     "data": {
      "text/html": [
       "<div>\n",
       "<style scoped>\n",
       "    .dataframe tbody tr th:only-of-type {\n",
       "        vertical-align: middle;\n",
       "    }\n",
       "\n",
       "    .dataframe tbody tr th {\n",
       "        vertical-align: top;\n",
       "    }\n",
       "\n",
       "    .dataframe thead th {\n",
       "        text-align: right;\n",
       "    }\n",
       "</style>\n",
       "<table border=\"1\" class=\"dataframe\">\n",
       "  <thead>\n",
       "    <tr style=\"text-align: right;\">\n",
       "      <th></th>\n",
       "      <th>ride_id</th>\n",
       "      <th>rideable_type</th>\n",
       "      <th>started_at</th>\n",
       "      <th>ended_at</th>\n",
       "      <th>start_station_name</th>\n",
       "      <th>start_station_id</th>\n",
       "      <th>end_station_name</th>\n",
       "      <th>end_station_id</th>\n",
       "      <th>start_lat</th>\n",
       "      <th>start_lng</th>\n",
       "      <th>end_lat</th>\n",
       "      <th>end_lng</th>\n",
       "      <th>member_casual</th>\n",
       "      <th>ride_duration_mins</th>\n",
       "      <th>day</th>\n",
       "      <th>month</th>\n",
       "      <th>ride_distance</th>\n",
       "      <th>start_hour</th>\n",
       "      <th>season</th>\n",
       "    </tr>\n",
       "  </thead>\n",
       "  <tbody>\n",
       "    <tr>\n",
       "      <th>0</th>\n",
       "      <td>A847FADBBC638E45</td>\n",
       "      <td>docked_bike</td>\n",
       "      <td>2020-04-26 17:45:14</td>\n",
       "      <td>2020-04-26 18:12:03</td>\n",
       "      <td>Eckhart Park</td>\n",
       "      <td>86</td>\n",
       "      <td>Lincoln Ave &amp; Diversey Pkwy</td>\n",
       "      <td>152.0</td>\n",
       "      <td>41.8964</td>\n",
       "      <td>-87.6610</td>\n",
       "      <td>41.9322</td>\n",
       "      <td>-87.6586</td>\n",
       "      <td>member</td>\n",
       "      <td>26.816667</td>\n",
       "      <td>Sunday</td>\n",
       "      <td>April-2020</td>\n",
       "      <td>3.985733</td>\n",
       "      <td>17</td>\n",
       "      <td>Spring</td>\n",
       "    </tr>\n",
       "    <tr>\n",
       "      <th>1</th>\n",
       "      <td>5405B80E996FF60D</td>\n",
       "      <td>docked_bike</td>\n",
       "      <td>2020-04-17 17:08:54</td>\n",
       "      <td>2020-04-17 17:17:03</td>\n",
       "      <td>Drake Ave &amp; Fullerton Ave</td>\n",
       "      <td>503</td>\n",
       "      <td>Kosciuszko Park</td>\n",
       "      <td>499.0</td>\n",
       "      <td>41.9244</td>\n",
       "      <td>-87.7154</td>\n",
       "      <td>41.9306</td>\n",
       "      <td>-87.7238</td>\n",
       "      <td>member</td>\n",
       "      <td>8.150000</td>\n",
       "      <td>Friday</td>\n",
       "      <td>April-2020</td>\n",
       "      <td>0.978874</td>\n",
       "      <td>17</td>\n",
       "      <td>Spring</td>\n",
       "    </tr>\n",
       "    <tr>\n",
       "      <th>2</th>\n",
       "      <td>5DD24A79A4E006F4</td>\n",
       "      <td>docked_bike</td>\n",
       "      <td>2020-04-01 17:54:13</td>\n",
       "      <td>2020-04-01 18:08:36</td>\n",
       "      <td>McClurg Ct &amp; Erie St</td>\n",
       "      <td>142</td>\n",
       "      <td>Indiana Ave &amp; Roosevelt Rd</td>\n",
       "      <td>255.0</td>\n",
       "      <td>41.8945</td>\n",
       "      <td>-87.6179</td>\n",
       "      <td>41.8679</td>\n",
       "      <td>-87.6230</td>\n",
       "      <td>member</td>\n",
       "      <td>14.383333</td>\n",
       "      <td>Wednesday</td>\n",
       "      <td>April-2020</td>\n",
       "      <td>2.987772</td>\n",
       "      <td>17</td>\n",
       "      <td>Spring</td>\n",
       "    </tr>\n",
       "    <tr>\n",
       "      <th>3</th>\n",
       "      <td>2A59BBDF5CDBA725</td>\n",
       "      <td>docked_bike</td>\n",
       "      <td>2020-04-07 12:50:19</td>\n",
       "      <td>2020-04-07 13:02:31</td>\n",
       "      <td>California Ave &amp; Division St</td>\n",
       "      <td>216</td>\n",
       "      <td>Wood St &amp; Augusta Blvd</td>\n",
       "      <td>657.0</td>\n",
       "      <td>41.9030</td>\n",
       "      <td>-87.6975</td>\n",
       "      <td>41.8992</td>\n",
       "      <td>-87.6722</td>\n",
       "      <td>member</td>\n",
       "      <td>12.200000</td>\n",
       "      <td>Tuesday</td>\n",
       "      <td>April-2020</td>\n",
       "      <td>2.136096</td>\n",
       "      <td>12</td>\n",
       "      <td>Spring</td>\n",
       "    </tr>\n",
       "    <tr>\n",
       "      <th>4</th>\n",
       "      <td>27AD306C119C6158</td>\n",
       "      <td>docked_bike</td>\n",
       "      <td>2020-04-18 10:22:59</td>\n",
       "      <td>2020-04-18 11:15:54</td>\n",
       "      <td>Rush St &amp; Hubbard St</td>\n",
       "      <td>125</td>\n",
       "      <td>Sheridan Rd &amp; Lawrence Ave</td>\n",
       "      <td>323.0</td>\n",
       "      <td>41.8902</td>\n",
       "      <td>-87.6262</td>\n",
       "      <td>41.9695</td>\n",
       "      <td>-87.6547</td>\n",
       "      <td>casual</td>\n",
       "      <td>52.916667</td>\n",
       "      <td>Saturday</td>\n",
       "      <td>April-2020</td>\n",
       "      <td>9.127519</td>\n",
       "      <td>10</td>\n",
       "      <td>Spring</td>\n",
       "    </tr>\n",
       "  </tbody>\n",
       "</table>\n",
       "</div>"
      ],
      "text/plain": [
       "            ride_id rideable_type          started_at            ended_at  \\\n",
       "0  A847FADBBC638E45   docked_bike 2020-04-26 17:45:14 2020-04-26 18:12:03   \n",
       "1  5405B80E996FF60D   docked_bike 2020-04-17 17:08:54 2020-04-17 17:17:03   \n",
       "2  5DD24A79A4E006F4   docked_bike 2020-04-01 17:54:13 2020-04-01 18:08:36   \n",
       "3  2A59BBDF5CDBA725   docked_bike 2020-04-07 12:50:19 2020-04-07 13:02:31   \n",
       "4  27AD306C119C6158   docked_bike 2020-04-18 10:22:59 2020-04-18 11:15:54   \n",
       "\n",
       "             start_station_name start_station_id             end_station_name  \\\n",
       "0                  Eckhart Park               86  Lincoln Ave & Diversey Pkwy   \n",
       "1     Drake Ave & Fullerton Ave              503              Kosciuszko Park   \n",
       "2          McClurg Ct & Erie St              142   Indiana Ave & Roosevelt Rd   \n",
       "3  California Ave & Division St              216       Wood St & Augusta Blvd   \n",
       "4          Rush St & Hubbard St              125   Sheridan Rd & Lawrence Ave   \n",
       "\n",
       "  end_station_id  start_lat  start_lng  end_lat  end_lng member_casual  \\\n",
       "0          152.0    41.8964   -87.6610  41.9322 -87.6586        member   \n",
       "1          499.0    41.9244   -87.7154  41.9306 -87.7238        member   \n",
       "2          255.0    41.8945   -87.6179  41.8679 -87.6230        member   \n",
       "3          657.0    41.9030   -87.6975  41.8992 -87.6722        member   \n",
       "4          323.0    41.8902   -87.6262  41.9695 -87.6547        casual   \n",
       "\n",
       "   ride_duration_mins        day       month  ride_distance  start_hour  \\\n",
       "0           26.816667     Sunday  April-2020       3.985733          17   \n",
       "1            8.150000     Friday  April-2020       0.978874          17   \n",
       "2           14.383333  Wednesday  April-2020       2.987772          17   \n",
       "3           12.200000    Tuesday  April-2020       2.136096          12   \n",
       "4           52.916667   Saturday  April-2020       9.127519          10   \n",
       "\n",
       "   season  \n",
       "0  Spring  \n",
       "1  Spring  \n",
       "2  Spring  \n",
       "3  Spring  \n",
       "4  Spring  "
      ]
     },
     "execution_count": 30,
     "metadata": {},
     "output_type": "execute_result"
    }
   ],
   "source": [
    "Main_df.head()"
   ]
  },
  {
   "cell_type": "markdown",
   "id": "5bef7bf3",
   "metadata": {},
   "source": [
    "## #Now the data is clean, we have all the columns we need, and it is ready for analysis.\n",
    "\n",
    "### Note: At this stage, you can visualize the data using Python, or you can export your data as csv and visualize using Tableau."
   ]
  },
  {
   "cell_type": "code",
   "execution_count": 31,
   "id": "05ee5b22",
   "metadata": {},
   "outputs": [],
   "source": [
    "# Extract data to show total rides between casuals and members.\n",
    "Viz_1 = Main_df.groupby(['member_casual']).count()['ride_id']"
   ]
  },
  {
   "cell_type": "code",
   "execution_count": 46,
   "id": "9fdbd951",
   "metadata": {},
   "outputs": [
    {
     "data": {
      "text/plain": [
       "member_casual\n",
       "casual    1150000\n",
       "member    1857313\n",
       "Name: ride_id, dtype: int64"
      ]
     },
     "execution_count": 46,
     "metadata": {},
     "output_type": "execute_result"
    }
   ],
   "source": [
    "#Display the data\n",
    "Viz_1"
   ]
  },
  {
   "cell_type": "code",
   "execution_count": 32,
   "id": "00aa86c5",
   "metadata": {
    "scrolled": false
   },
   "outputs": [
    {
     "name": "stdout",
     "output_type": "stream",
     "text": [
      "Members: 1,857,313 \n",
      "Casuals: 1,150,000\n"
     ]
    },
    {
     "data": {
      "image/png": "[encoded data removed]",
      "text/plain": [
       "<Figure size 500x500 with 1 Axes>"
      ]
     },
     "metadata": {},
     "output_type": "display_data"
    }
   ],
   "source": [
    "# Plot a pie chart that shows the percentage of total rides between casual riders and members.\n",
    "print(\"Members: 1,857,313\",\n",
    "     \"\\nCasuals: 1,150,000\")\n",
    "plot = Viz_1.plot.pie(autopct='%1.0f%%', figsize=(5, 5))"
   ]
  },
  {
   "cell_type": "code",
   "execution_count": 33,
   "id": "e780ed87",
   "metadata": {},
   "outputs": [],
   "source": [
    "# Extract data to show total rides between casuals and members per day.\n",
    "Viz_2 = Main_df.groupby(['day', 'member_casual']).count()['ride_id']"
   ]
  },
  {
   "cell_type": "code",
   "execution_count": 47,
   "id": "22b5aebc",
   "metadata": {
    "scrolled": false
   },
   "outputs": [
    {
     "data": {
      "text/plain": [
       "day        member_casual\n",
       "Friday     casual           170850\n",
       "           member           278140\n",
       "Monday     casual           118513\n",
       "           member           241434\n",
       "Saturday   casual           276122\n",
       "           member           292032\n",
       "Sunday     casual           207810\n",
       "           member           238613\n",
       "Thursday   casual           134138\n",
       "           member           272605\n",
       "Tuesday    casual           115584\n",
       "           member           257595\n",
       "Wednesday  casual           126983\n",
       "           member           276894\n",
       "Name: ride_id, dtype: int64"
      ]
     },
     "execution_count": 47,
     "metadata": {},
     "output_type": "execute_result"
    }
   ],
   "source": [
    "#Display data\n",
    "Viz_2"
   ]
  },
  {
   "cell_type": "code",
   "execution_count": 65,
   "id": "34267889",
   "metadata": {
    "scrolled": false
   },
   "outputs": [
    {
     "data": {
      "image/png": "[encoded data removed]",
      "text/plain": [
       "<Figure size 640x480 with 1 Axes>"
      ]
     },
     "metadata": {},
     "output_type": "display_data"
    }
   ],
   "source": [
    "# Plot a line graph to show relationship\n",
    "lines = Viz_2.plot.bar()"
   ]
  },
  {
   "cell_type": "code",
   "execution_count": 53,
   "id": "b86c8d3e",
   "metadata": {},
   "outputs": [],
   "source": [
    "# Extract data to show total rides by the hour of the day bwtween members and casuals.\n",
    "Viz_3 = Main_df.groupby(['start_hour', 'member_casual']).count()['ride_id']"
   ]
  },
  {
   "cell_type": "code",
   "execution_count": 54,
   "id": "61f22af5",
   "metadata": {},
   "outputs": [
    {
     "data": {
      "text/plain": [
       "start_hour  member_casual\n",
       "0           casual            15231\n",
       "            member            10411\n",
       "1           casual             9133\n",
       "            member             5819\n",
       "2           casual             4841\n",
       "            member             3056\n",
       "3           casual             2709\n",
       "            member             1917\n",
       "4           casual             2393\n",
       "            member             3167\n",
       "5           casual             4174\n",
       "            member            15965\n",
       "6           casual            10727\n",
       "            member            52249\n",
       "7           casual            19623\n",
       "            member            87802\n",
       "8           casual            26799\n",
       "            member            94851\n",
       "9           casual            33535\n",
       "            member            79212\n",
       "10          casual            47927\n",
       "            member            83630\n",
       "11          casual            66540\n",
       "            member           104166\n",
       "12          casual            81094\n",
       "            member           121858\n",
       "13          casual            87889\n",
       "            member           122030\n",
       "14          casual            92791\n",
       "            member           121895\n",
       "15          casual            97360\n",
       "            member           136038\n",
       "16          casual           103375\n",
       "            member           164089\n",
       "17          casual           115657\n",
       "            member           196662\n",
       "18          casual           103124\n",
       "            member           170420\n",
       "19          casual            76797\n",
       "            member           117433\n",
       "20          casual            52890\n",
       "            member            71402\n",
       "21          casual            37413\n",
       "            member            42811\n",
       "22          casual            32411\n",
       "            member            30089\n",
       "23          casual            25567\n",
       "            member            20341\n",
       "Name: ride_id, dtype: int64"
      ]
     },
     "execution_count": 54,
     "metadata": {},
     "output_type": "execute_result"
    }
   ],
   "source": [
    "#Display data\n",
    "Viz_3"
   ]
  },
  {
   "cell_type": "code",
   "execution_count": 61,
   "id": "e27f3db2",
   "metadata": {},
   "outputs": [
    {
     "data": {
      "image/png": "[encoded data removed]",
      "text/plain": [
       "<Figure size 640x480 with 1 Axes>"
      ]
     },
     "metadata": {},
     "output_type": "display_data"
    }
   ],
   "source": [
    "lines = Viz_3.plot.line(x='start_hour', y='ride_id')"
   ]
  },
  {
   "cell_type": "code",
   "execution_count": 67,
   "id": "35645068",
   "metadata": {},
   "outputs": [],
   "source": [
    "# Extract data to show total rides by month bwtween members and casuals.\n",
    "Viz_4 = Main_df.groupby(['month', 'member_casual']).count()['ride_id']"
   ]
  },
  {
   "cell_type": "code",
   "execution_count": 68,
   "id": "a24b7d3a",
   "metadata": {},
   "outputs": [
    {
     "data": {
      "text/plain": [
       "month           member_casual\n",
       "April-2020      casual            17258\n",
       "                member            54974\n",
       "August-2020     casual           243414\n",
       "                member           312307\n",
       "December-2020   casual            22156\n",
       "                member            86136\n",
       "February-2021   casual             7570\n",
       "                member            32635\n",
       "January-2021    casual            13259\n",
       "                member            66548\n",
       "July-2020       casual           217727\n",
       "                member           268336\n",
       "June-2020       casual           126883\n",
       "                member           177379\n",
       "March-2021      casual            64844\n",
       "                member           124581\n",
       "May-2020        casual            64443\n",
       "                member           102925\n",
       "November-2020   casual            66670\n",
       "                member           145693\n",
       "October-2020    casual           113280\n",
       "                member           210554\n",
       "September-2020  casual           192496\n",
       "                member           275245\n",
       "Name: ride_id, dtype: int64"
      ]
     },
     "execution_count": 68,
     "metadata": {},
     "output_type": "execute_result"
    }
   ],
   "source": [
    "# Display the data\n",
    "Viz_4"
   ]
  },
  {
   "cell_type": "code",
   "execution_count": 70,
   "id": "cdae04f4",
   "metadata": {
    "scrolled": false
   },
   "outputs": [
    {
     "data": {
      "image/png": "[encoded data removed]",
      "text/plain": [
       "<Figure size 640x480 with 1 Axes>"
      ]
     },
     "metadata": {},
     "output_type": "display_data"
    }
   ],
   "source": [
    "lines = Viz_4.plot.line()"
   ]
  },
  {
   "cell_type": "code",
   "execution_count": 36,
   "id": "a268a8fd",
   "metadata": {},
   "outputs": [],
   "source": []
  },
  {
   "cell_type": "code",
   "execution_count": 37,
   "id": "5eec97b1",
   "metadata": {},
   "outputs": [],
   "source": []
  },
  {
   "cell_type": "code",
   "execution_count": 38,
   "id": "9f822f25",
   "metadata": {},
   "outputs": [],
   "source": []
  },
  {
   "cell_type": "markdown",
   "id": "4ac1a88b",
   "metadata": {},
   "source": []
  }
 ],
 "metadata": {
  "kernelspec": {
   "display_name": "Python 3 (ipykernel)",
   "language": "python",
   "name": "python3"
  },
  "language_info": {
   "codemirror_mode": {
    "name": "ipython",
    "version": 3
   },
   "file_extension": ".py",
   "mimetype": "text/x-python",
   "name": "python",
   "nbconvert_exporter": "python",
   "pygments_lexer": "ipython3",
   "version": "3.9.13"
  }
 },
 "nbformat": 4,
 "nbformat_minor": 5
}
